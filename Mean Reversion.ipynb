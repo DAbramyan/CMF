{
 "cells": [
  {
   "cell_type": "markdown",
   "id": "efb0d311-ec00-4cdc-98ee-38d064795813",
   "metadata": {},
   "source": [
    "# Add-ins"
   ]
  },
  {
   "cell_type": "code",
   "execution_count": 1,
   "id": "09e6ad96-6e52-4639-95fd-81298dcf4d51",
   "metadata": {},
   "outputs": [],
   "source": [
    "import pandas as pd\n",
    "import numpy as np\n",
    "import matplotlib.pyplot as plt\n",
    "\n",
    "#Cool lib to calculate metrics\n",
    "import quantstats as qs\n",
    "\n",
    "#to visualize loop iteration\n",
    "from tqdm.notebook import tqdm"
   ]
  },
  {
   "cell_type": "markdown",
   "id": "c78ef1d8-fc0a-49e5-be3e-4012fa98ee60",
   "metadata": {},
   "source": [
    "# Preprocessing"
   ]
  },
  {
   "cell_type": "code",
   "execution_count": 2,
   "id": "79b8ba64-6b53-4c6b-9328-6a6bd0f00e66",
   "metadata": {},
   "outputs": [],
   "source": [
    "#read file\n",
    "st_stocks = pd.read_csv('ticker_info.csv', header=0, index_col='Unnamed: 0')"
   ]
  },
  {
   "cell_type": "code",
   "execution_count": 3,
   "id": "525e70c6-fccc-42fc-88a5-e40efc601dc7",
   "metadata": {},
   "outputs": [],
   "source": [
    "#read file and convert date column to type datetime64[ns]\n",
    "main_stocks = pd.read_csv('stock_data.csv', parse_dates=['date'])"
   ]
  },
  {
   "cell_type": "code",
   "execution_count": 4,
   "id": "964c502c-1bc6-481c-9c5a-9239e72992c8",
   "metadata": {},
   "outputs": [],
   "source": [
    "#merge two files in one dataset\n",
    "df_main = pd.merge(main_stocks, st_stocks, on=['ticker', 'ticker'])"
   ]
  },
  {
   "cell_type": "code",
   "execution_count": 26,
   "id": "ae6dbaf9-1c9d-4840-9a6e-e915899703ba",
   "metadata": {},
   "outputs": [],
   "source": [
    "'''Here we decided not to analyze delisted stocks.\n",
    "The reason behind this fact as we don't know the exact delisted day. Thus, we can't just short them instantly.\n",
    "As it will look like we 'peeking into the future' i.e. in test sample. \n",
    "What is more, we don't know exact methodology or model of predicting bancruptcy.\n",
    "Therefore, let's simply drop these data. \n",
    "It is just 203 companies from 4000+, so we should not have a problem but make our model more reliable and accurate\n",
    "'''\n",
    "\n",
    "df_main = df_main[~df_main['company_name'].str.contains('ST')]"
   ]
  },
  {
   "cell_type": "markdown",
   "id": "1b415686-b12a-4f16-af0e-11f1eef4a446",
   "metadata": {},
   "source": [
    "# Prices"
   ]
  },
  {
   "cell_type": "code",
   "execution_count": 50,
   "id": "a52fd51a-6006-449c-95b8-78e49a852d3c",
   "metadata": {},
   "outputs": [
    {
     "data": {
      "text/html": [
       "<div>\n",
       "<style scoped>\n",
       "    .dataframe tbody tr th:only-of-type {\n",
       "        vertical-align: middle;\n",
       "    }\n",
       "\n",
       "    .dataframe tbody tr th {\n",
       "        vertical-align: top;\n",
       "    }\n",
       "\n",
       "    .dataframe thead th {\n",
       "        text-align: right;\n",
       "    }\n",
       "</style>\n",
       "<table border=\"1\" class=\"dataframe\">\n",
       "  <thead>\n",
       "    <tr style=\"text-align: right;\">\n",
       "      <th>ticker</th>\n",
       "      <th>sh600000</th>\n",
       "      <th>sh600004</th>\n",
       "      <th>sh600006</th>\n",
       "      <th>sh600007</th>\n",
       "      <th>sh600008</th>\n",
       "      <th>sh600009</th>\n",
       "      <th>sh600010</th>\n",
       "      <th>sh600011</th>\n",
       "      <th>sh600012</th>\n",
       "      <th>sh600015</th>\n",
       "      <th>...</th>\n",
       "      <th>sz301236</th>\n",
       "      <th>sz301237</th>\n",
       "      <th>sz301248</th>\n",
       "      <th>sz301256</th>\n",
       "      <th>sz301258</th>\n",
       "      <th>sz301259</th>\n",
       "      <th>sz301263</th>\n",
       "      <th>sz301268</th>\n",
       "      <th>sz301279</th>\n",
       "      <th>sz301288</th>\n",
       "    </tr>\n",
       "    <tr>\n",
       "      <th>date</th>\n",
       "      <th></th>\n",
       "      <th></th>\n",
       "      <th></th>\n",
       "      <th></th>\n",
       "      <th></th>\n",
       "      <th></th>\n",
       "      <th></th>\n",
       "      <th></th>\n",
       "      <th></th>\n",
       "      <th></th>\n",
       "      <th></th>\n",
       "      <th></th>\n",
       "      <th></th>\n",
       "      <th></th>\n",
       "      <th></th>\n",
       "      <th></th>\n",
       "      <th></th>\n",
       "      <th></th>\n",
       "      <th></th>\n",
       "      <th></th>\n",
       "      <th></th>\n",
       "    </tr>\n",
       "  </thead>\n",
       "  <tbody>\n",
       "    <tr>\n",
       "      <th>2005-01-04</th>\n",
       "      <td>0.76</td>\n",
       "      <td>3.30</td>\n",
       "      <td>1.82</td>\n",
       "      <td>3.12</td>\n",
       "      <td>1.08</td>\n",
       "      <td>10.28</td>\n",
       "      <td>0.55</td>\n",
       "      <td>2.99</td>\n",
       "      <td>2.57</td>\n",
       "      <td>1.08</td>\n",
       "      <td>...</td>\n",
       "      <td>NaN</td>\n",
       "      <td>NaN</td>\n",
       "      <td>NaN</td>\n",
       "      <td>NaN</td>\n",
       "      <td>NaN</td>\n",
       "      <td>NaN</td>\n",
       "      <td>NaN</td>\n",
       "      <td>NaN</td>\n",
       "      <td>NaN</td>\n",
       "      <td>NaN</td>\n",
       "    </tr>\n",
       "    <tr>\n",
       "      <th>2005-01-05</th>\n",
       "      <td>0.75</td>\n",
       "      <td>3.36</td>\n",
       "      <td>1.84</td>\n",
       "      <td>3.18</td>\n",
       "      <td>1.09</td>\n",
       "      <td>10.38</td>\n",
       "      <td>0.55</td>\n",
       "      <td>2.95</td>\n",
       "      <td>2.59</td>\n",
       "      <td>1.08</td>\n",
       "      <td>...</td>\n",
       "      <td>NaN</td>\n",
       "      <td>NaN</td>\n",
       "      <td>NaN</td>\n",
       "      <td>NaN</td>\n",
       "      <td>NaN</td>\n",
       "      <td>NaN</td>\n",
       "      <td>NaN</td>\n",
       "      <td>NaN</td>\n",
       "      <td>NaN</td>\n",
       "      <td>NaN</td>\n",
       "    </tr>\n",
       "    <tr>\n",
       "      <th>2005-01-06</th>\n",
       "      <td>0.74</td>\n",
       "      <td>3.36</td>\n",
       "      <td>1.82</td>\n",
       "      <td>3.15</td>\n",
       "      <td>1.08</td>\n",
       "      <td>10.43</td>\n",
       "      <td>0.55</td>\n",
       "      <td>2.91</td>\n",
       "      <td>2.64</td>\n",
       "      <td>1.07</td>\n",
       "      <td>...</td>\n",
       "      <td>NaN</td>\n",
       "      <td>NaN</td>\n",
       "      <td>NaN</td>\n",
       "      <td>NaN</td>\n",
       "      <td>NaN</td>\n",
       "      <td>NaN</td>\n",
       "      <td>NaN</td>\n",
       "      <td>NaN</td>\n",
       "      <td>NaN</td>\n",
       "      <td>NaN</td>\n",
       "    </tr>\n",
       "    <tr>\n",
       "      <th>2005-01-07</th>\n",
       "      <td>0.74</td>\n",
       "      <td>3.43</td>\n",
       "      <td>1.82</td>\n",
       "      <td>3.21</td>\n",
       "      <td>1.09</td>\n",
       "      <td>10.55</td>\n",
       "      <td>0.55</td>\n",
       "      <td>2.92</td>\n",
       "      <td>2.64</td>\n",
       "      <td>1.07</td>\n",
       "      <td>...</td>\n",
       "      <td>NaN</td>\n",
       "      <td>NaN</td>\n",
       "      <td>NaN</td>\n",
       "      <td>NaN</td>\n",
       "      <td>NaN</td>\n",
       "      <td>NaN</td>\n",
       "      <td>NaN</td>\n",
       "      <td>NaN</td>\n",
       "      <td>NaN</td>\n",
       "      <td>NaN</td>\n",
       "    </tr>\n",
       "    <tr>\n",
       "      <th>2005-01-10</th>\n",
       "      <td>0.77</td>\n",
       "      <td>3.44</td>\n",
       "      <td>1.84</td>\n",
       "      <td>3.27</td>\n",
       "      <td>1.10</td>\n",
       "      <td>10.56</td>\n",
       "      <td>0.56</td>\n",
       "      <td>2.89</td>\n",
       "      <td>2.68</td>\n",
       "      <td>1.10</td>\n",
       "      <td>...</td>\n",
       "      <td>NaN</td>\n",
       "      <td>NaN</td>\n",
       "      <td>NaN</td>\n",
       "      <td>NaN</td>\n",
       "      <td>NaN</td>\n",
       "      <td>NaN</td>\n",
       "      <td>NaN</td>\n",
       "      <td>NaN</td>\n",
       "      <td>NaN</td>\n",
       "      <td>NaN</td>\n",
       "    </tr>\n",
       "  </tbody>\n",
       "</table>\n",
       "<p>5 rows × 4511 columns</p>\n",
       "</div>"
      ],
      "text/plain": [
       "ticker      sh600000  sh600004  sh600006  sh600007  sh600008  sh600009  \\\n",
       "date                                                                     \n",
       "2005-01-04      0.76      3.30      1.82      3.12      1.08     10.28   \n",
       "2005-01-05      0.75      3.36      1.84      3.18      1.09     10.38   \n",
       "2005-01-06      0.74      3.36      1.82      3.15      1.08     10.43   \n",
       "2005-01-07      0.74      3.43      1.82      3.21      1.09     10.55   \n",
       "2005-01-10      0.77      3.44      1.84      3.27      1.10     10.56   \n",
       "\n",
       "ticker      sh600010  sh600011  sh600012  sh600015  ...  sz301236  sz301237  \\\n",
       "date                                                ...                       \n",
       "2005-01-04      0.55      2.99      2.57      1.08  ...       NaN       NaN   \n",
       "2005-01-05      0.55      2.95      2.59      1.08  ...       NaN       NaN   \n",
       "2005-01-06      0.55      2.91      2.64      1.07  ...       NaN       NaN   \n",
       "2005-01-07      0.55      2.92      2.64      1.07  ...       NaN       NaN   \n",
       "2005-01-10      0.56      2.89      2.68      1.10  ...       NaN       NaN   \n",
       "\n",
       "ticker      sz301248  sz301256  sz301258  sz301259  sz301263  sz301268  \\\n",
       "date                                                                     \n",
       "2005-01-04       NaN       NaN       NaN       NaN       NaN       NaN   \n",
       "2005-01-05       NaN       NaN       NaN       NaN       NaN       NaN   \n",
       "2005-01-06       NaN       NaN       NaN       NaN       NaN       NaN   \n",
       "2005-01-07       NaN       NaN       NaN       NaN       NaN       NaN   \n",
       "2005-01-10       NaN       NaN       NaN       NaN       NaN       NaN   \n",
       "\n",
       "ticker      sz301279  sz301288  \n",
       "date                            \n",
       "2005-01-04       NaN       NaN  \n",
       "2005-01-05       NaN       NaN  \n",
       "2005-01-06       NaN       NaN  \n",
       "2005-01-07       NaN       NaN  \n",
       "2005-01-10       NaN       NaN  \n",
       "\n",
       "[5 rows x 4511 columns]"
      ]
     },
     "execution_count": 50,
     "metadata": {},
     "output_type": "execute_result"
    }
   ],
   "source": [
    "''' To start, let's rearrange data to have simplier calcs. \n",
    "We will define tickers as columns and dates as indexes\n",
    "'''\n",
    "\n",
    "df_price = pd.pivot_table(df_main, values='close', index='date', columns='ticker', aggfunc=np.mean)\n",
    "\n",
    "df_price.head()"
   ]
  },
  {
   "cell_type": "code",
   "execution_count": 51,
   "id": "bb0c4b98-de92-4c48-a54c-3718f5dda2b4",
   "metadata": {},
   "outputs": [],
   "source": [
    "'''There are some missing data. Some stocks have missing data i.e. Nans. However than traded again.\n",
    "For example, we have stocks that traded at 25/02/2005 but not traded at 28/02/2005. Meanwhile other stocks traded.\n",
    "Therefore, we fill NaN based on the previous value (previous day) of this stock\n",
    "'''\n",
    "\n",
    "df_price = df_price.fillna(method='ffill')"
   ]
  },
  {
   "cell_type": "markdown",
   "id": "edf0438e-70bb-4e92-9b24-e7ead1296446",
   "metadata": {},
   "source": [
    "# Parameters which will be fine-tuned"
   ]
  },
  {
   "cell_type": "code",
   "execution_count": 52,
   "id": "f03b6942-d61a-4c2b-a9e7-9e2ba9a31aa0",
   "metadata": {},
   "outputs": [],
   "source": [
    "#Slice data for train/test/validation dataframe\n",
    "df_price = df_price.loc['2022':'2022']\n",
    "\n",
    "#major parameter - size of the rolling window\n",
    "parameter = [15, 30, 60, 90, 120, 150, 180, 210, 240, 270, 300, 330, 360, 720]\n",
    "\n",
    "#percentiles to long/short/flat stock\n",
    "percentiles = [0.01, 0.99]"
   ]
  },
  {
   "cell_type": "markdown",
   "id": "c79c6531-03c0-4e25-8ef1-367c27184495",
   "metadata": {},
   "source": [
    "# Model"
   ]
  },
  {
   "cell_type": "code",
   "execution_count": 53,
   "id": "ad52b9ec-ec27-40ca-ab9c-3d4161aa919e",
   "metadata": {},
   "outputs": [
    {
     "data": {
      "application/vnd.jupyter.widget-view+json": {
       "model_id": "7bd62a39da524ff4a96eca9af4702a1b",
       "version_major": 2,
       "version_minor": 0
      },
      "text/plain": [
       "  0%|          | 0/14 [00:00<?, ?it/s]"
      ]
     },
     "metadata": {},
     "output_type": "display_data"
    }
   ],
   "source": [
    "lst_strategies = [] #list of strategies which depend on the Rolling Window size\n",
    "\n",
    "for i in tqdm(parameter):\n",
    "    df_ratio = df_price / df_price.rolling(i).mean()\n",
    "\n",
    "    strategy = np.where(df_ratio > df_ratio.quantile(percentiles[1]), -1, np.nan)\n",
    "    strategy = np.where(df_ratio < df_ratio.quantile(percentiles[0]), 1, strategy)\n",
    "\n",
    "    df_strategy = pd.DataFrame(strategy, columns=df_ratio.columns, index=df_ratio.index)\n",
    "    df_strategy.ffill(inplace=True)\n",
    "    lst_strategies.append(df_strategy)"
   ]
  },
  {
   "cell_type": "markdown",
   "id": "cebf475e-e01f-440f-bc74-2faabec600b5",
   "metadata": {},
   "source": [
    "# Backtest"
   ]
  },
  {
   "cell_type": "markdown",
   "id": "8b91c0fb-e878-4675-9725-3fcb58d882df",
   "metadata": {},
   "source": [
    "## Daily stocks return for each strategy"
   ]
  },
  {
   "cell_type": "code",
   "execution_count": 54,
   "id": "05cfb41c-a356-4312-a937-59670968ae0e",
   "metadata": {},
   "outputs": [],
   "source": [
    "df_return = df_price.pct_change()\n",
    "\n",
    "lst_pnl_daily_stock = [] #list of different strategy's daily returns for each stock for each day\n",
    "\n",
    "for i in lst_strategies:\n",
    "    result = i.shift(1) * df_return\n",
    "    lst_pnl_daily_stock.append(result)"
   ]
  },
  {
   "cell_type": "markdown",
   "id": "b82c52f2-8390-4fee-89b5-00cfda4c496c",
   "metadata": {},
   "source": [
    "## Daily portfolio return for each strategy (weighted)"
   ]
  },
  {
   "cell_type": "code",
   "execution_count": 55,
   "id": "80c046b8-c67d-4b00-b6ab-5a7702185567",
   "metadata": {},
   "outputs": [],
   "source": [
    "#weight of each stock by their price\n",
    "df_weights = df_price.div(df_price.sum(axis=1), axis='rows')\n",
    "\n",
    "lst_pnl_daily_portfolio = []\n",
    "\n",
    "for i in lst_pnl_daily_stock: #weighed daily return for each stock by price\n",
    "    result = (i * df_weights).sum(axis=1, skipna=True)\n",
    "    lst_pnl_daily_portfolio.append(result)"
   ]
  },
  {
   "cell_type": "markdown",
   "id": "971b7475-39ab-4730-8c5f-f908525e7498",
   "metadata": {},
   "source": [
    "## Combining all strategies in single dataframe"
   ]
  },
  {
   "cell_type": "code",
   "execution_count": 56,
   "id": "cc1b4e1f-543a-4431-878d-691184ba7ca8",
   "metadata": {},
   "outputs": [],
   "source": [
    "df_daily_return = pd.concat(lst_pnl_daily_portfolio, axis=1)\n",
    "df_daily_return.columns = parameter"
   ]
  },
  {
   "cell_type": "code",
   "execution_count": 57,
   "id": "484ebbaa-fd4f-4f85-b902-631328e83158",
   "metadata": {},
   "outputs": [
    {
     "data": {
      "text/html": [
       "<div>\n",
       "<style scoped>\n",
       "    .dataframe tbody tr th:only-of-type {\n",
       "        vertical-align: middle;\n",
       "    }\n",
       "\n",
       "    .dataframe tbody tr th {\n",
       "        vertical-align: top;\n",
       "    }\n",
       "\n",
       "    .dataframe thead th {\n",
       "        text-align: right;\n",
       "    }\n",
       "</style>\n",
       "<table border=\"1\" class=\"dataframe\">\n",
       "  <thead>\n",
       "    <tr style=\"text-align: right;\">\n",
       "      <th></th>\n",
       "      <th>15</th>\n",
       "      <th>30</th>\n",
       "      <th>60</th>\n",
       "      <th>90</th>\n",
       "      <th>120</th>\n",
       "      <th>150</th>\n",
       "      <th>180</th>\n",
       "      <th>210</th>\n",
       "      <th>240</th>\n",
       "      <th>270</th>\n",
       "      <th>300</th>\n",
       "      <th>330</th>\n",
       "      <th>360</th>\n",
       "      <th>720</th>\n",
       "    </tr>\n",
       "    <tr>\n",
       "      <th>date</th>\n",
       "      <th></th>\n",
       "      <th></th>\n",
       "      <th></th>\n",
       "      <th></th>\n",
       "      <th></th>\n",
       "      <th></th>\n",
       "      <th></th>\n",
       "      <th></th>\n",
       "      <th></th>\n",
       "      <th></th>\n",
       "      <th></th>\n",
       "      <th></th>\n",
       "      <th></th>\n",
       "      <th></th>\n",
       "    </tr>\n",
       "  </thead>\n",
       "  <tbody>\n",
       "    <tr>\n",
       "      <th>2022-05-05</th>\n",
       "      <td>0.013724</td>\n",
       "      <td>0.016120</td>\n",
       "      <td>0.018368</td>\n",
       "      <td>0.0</td>\n",
       "      <td>0.0</td>\n",
       "      <td>0.0</td>\n",
       "      <td>0.0</td>\n",
       "      <td>0.0</td>\n",
       "      <td>0.0</td>\n",
       "      <td>0.0</td>\n",
       "      <td>0.0</td>\n",
       "      <td>0.0</td>\n",
       "      <td>0.0</td>\n",
       "      <td>0.0</td>\n",
       "    </tr>\n",
       "    <tr>\n",
       "      <th>2022-05-06</th>\n",
       "      <td>-0.000816</td>\n",
       "      <td>0.001010</td>\n",
       "      <td>-0.000549</td>\n",
       "      <td>0.0</td>\n",
       "      <td>0.0</td>\n",
       "      <td>0.0</td>\n",
       "      <td>0.0</td>\n",
       "      <td>0.0</td>\n",
       "      <td>0.0</td>\n",
       "      <td>0.0</td>\n",
       "      <td>0.0</td>\n",
       "      <td>0.0</td>\n",
       "      <td>0.0</td>\n",
       "      <td>0.0</td>\n",
       "    </tr>\n",
       "    <tr>\n",
       "      <th>2022-05-09</th>\n",
       "      <td>0.010292</td>\n",
       "      <td>0.011890</td>\n",
       "      <td>0.012792</td>\n",
       "      <td>0.0</td>\n",
       "      <td>0.0</td>\n",
       "      <td>0.0</td>\n",
       "      <td>0.0</td>\n",
       "      <td>0.0</td>\n",
       "      <td>0.0</td>\n",
       "      <td>0.0</td>\n",
       "      <td>0.0</td>\n",
       "      <td>0.0</td>\n",
       "      <td>0.0</td>\n",
       "      <td>0.0</td>\n",
       "    </tr>\n",
       "    <tr>\n",
       "      <th>2022-05-10</th>\n",
       "      <td>0.017125</td>\n",
       "      <td>0.018456</td>\n",
       "      <td>0.021360</td>\n",
       "      <td>0.0</td>\n",
       "      <td>0.0</td>\n",
       "      <td>0.0</td>\n",
       "      <td>0.0</td>\n",
       "      <td>0.0</td>\n",
       "      <td>0.0</td>\n",
       "      <td>0.0</td>\n",
       "      <td>0.0</td>\n",
       "      <td>0.0</td>\n",
       "      <td>0.0</td>\n",
       "      <td>0.0</td>\n",
       "    </tr>\n",
       "    <tr>\n",
       "      <th>2022-05-11</th>\n",
       "      <td>0.012556</td>\n",
       "      <td>0.013051</td>\n",
       "      <td>0.016580</td>\n",
       "      <td>0.0</td>\n",
       "      <td>0.0</td>\n",
       "      <td>0.0</td>\n",
       "      <td>0.0</td>\n",
       "      <td>0.0</td>\n",
       "      <td>0.0</td>\n",
       "      <td>0.0</td>\n",
       "      <td>0.0</td>\n",
       "      <td>0.0</td>\n",
       "      <td>0.0</td>\n",
       "      <td>0.0</td>\n",
       "    </tr>\n",
       "  </tbody>\n",
       "</table>\n",
       "</div>"
      ],
      "text/plain": [
       "                 15        30        60   90   120  150  180  210  240  270  \\\n",
       "date                                                                          \n",
       "2022-05-05  0.013724  0.016120  0.018368  0.0  0.0  0.0  0.0  0.0  0.0  0.0   \n",
       "2022-05-06 -0.000816  0.001010 -0.000549  0.0  0.0  0.0  0.0  0.0  0.0  0.0   \n",
       "2022-05-09  0.010292  0.011890  0.012792  0.0  0.0  0.0  0.0  0.0  0.0  0.0   \n",
       "2022-05-10  0.017125  0.018456  0.021360  0.0  0.0  0.0  0.0  0.0  0.0  0.0   \n",
       "2022-05-11  0.012556  0.013051  0.016580  0.0  0.0  0.0  0.0  0.0  0.0  0.0   \n",
       "\n",
       "            300  330  360  720  \n",
       "date                            \n",
       "2022-05-05  0.0  0.0  0.0  0.0  \n",
       "2022-05-06  0.0  0.0  0.0  0.0  \n",
       "2022-05-09  0.0  0.0  0.0  0.0  \n",
       "2022-05-10  0.0  0.0  0.0  0.0  \n",
       "2022-05-11  0.0  0.0  0.0  0.0  "
      ]
     },
     "execution_count": 57,
     "metadata": {},
     "output_type": "execute_result"
    }
   ],
   "source": [
    "df_daily_return.tail()"
   ]
  },
  {
   "cell_type": "markdown",
   "id": "51d786a6-0bc7-4086-87ca-5ab021bcbfbe",
   "metadata": {},
   "source": [
    "## Buy and Hold strategy"
   ]
  },
  {
   "cell_type": "code",
   "execution_count": 58,
   "id": "d3758d12-80fc-4335-b2f1-02285ea6be64",
   "metadata": {},
   "outputs": [],
   "source": [
    "#Simple buy and hold strategy, where we just long at t = 0. \n",
    "#We need this to compare the model with some benchmark\n",
    "buy_and_hold_daily_return = (df_price.pct_change() * df_weights).sum(axis=1,skipna=True)"
   ]
  },
  {
   "cell_type": "markdown",
   "id": "4c8abc64-925e-4ca1-af52-0c005728e293",
   "metadata": {},
   "source": [
    "### Add Buy and Hold to main dataframe"
   ]
  },
  {
   "cell_type": "code",
   "execution_count": 59,
   "id": "294003fd-26cf-415c-9fd7-60e5b6eb0726",
   "metadata": {},
   "outputs": [],
   "source": [
    "df_daily_return.insert(0, 'Buy and Hold', buy_and_hold_daily_return)"
   ]
  },
  {
   "cell_type": "code",
   "execution_count": 60,
   "id": "5bdcf00d-177f-4b03-a56b-8f08f0cc0397",
   "metadata": {},
   "outputs": [],
   "source": [
    "#drop columns where we have no values i.e. strategy can't be applied to such dataset\n",
    "df_daily_return = df_daily_return[df_daily_return.columns[(df_daily_return!=0).any(0)]]"
   ]
  },
  {
   "cell_type": "code",
   "execution_count": 61,
   "id": "ec65a939-61a1-4832-8584-77316ab1a3d6",
   "metadata": {},
   "outputs": [
    {
     "data": {
      "text/html": [
       "<div>\n",
       "<style scoped>\n",
       "    .dataframe tbody tr th:only-of-type {\n",
       "        vertical-align: middle;\n",
       "    }\n",
       "\n",
       "    .dataframe tbody tr th {\n",
       "        vertical-align: top;\n",
       "    }\n",
       "\n",
       "    .dataframe thead th {\n",
       "        text-align: right;\n",
       "    }\n",
       "</style>\n",
       "<table border=\"1\" class=\"dataframe\">\n",
       "  <thead>\n",
       "    <tr style=\"text-align: right;\">\n",
       "      <th></th>\n",
       "      <th>Buy and Hold</th>\n",
       "      <th>15</th>\n",
       "      <th>30</th>\n",
       "      <th>60</th>\n",
       "    </tr>\n",
       "    <tr>\n",
       "      <th>date</th>\n",
       "      <th></th>\n",
       "      <th></th>\n",
       "      <th></th>\n",
       "      <th></th>\n",
       "    </tr>\n",
       "  </thead>\n",
       "  <tbody>\n",
       "    <tr>\n",
       "      <th>2022-05-05</th>\n",
       "      <td>0.016951</td>\n",
       "      <td>0.013724</td>\n",
       "      <td>0.016120</td>\n",
       "      <td>0.018368</td>\n",
       "    </tr>\n",
       "    <tr>\n",
       "      <th>2022-05-06</th>\n",
       "      <td>-0.008603</td>\n",
       "      <td>-0.000816</td>\n",
       "      <td>0.001010</td>\n",
       "      <td>-0.000549</td>\n",
       "    </tr>\n",
       "    <tr>\n",
       "      <th>2022-05-09</th>\n",
       "      <td>0.009475</td>\n",
       "      <td>0.010292</td>\n",
       "      <td>0.011890</td>\n",
       "      <td>0.012792</td>\n",
       "    </tr>\n",
       "    <tr>\n",
       "      <th>2022-05-10</th>\n",
       "      <td>0.023496</td>\n",
       "      <td>0.017125</td>\n",
       "      <td>0.018456</td>\n",
       "      <td>0.021360</td>\n",
       "    </tr>\n",
       "    <tr>\n",
       "      <th>2022-05-11</th>\n",
       "      <td>0.015866</td>\n",
       "      <td>0.012556</td>\n",
       "      <td>0.013051</td>\n",
       "      <td>0.016580</td>\n",
       "    </tr>\n",
       "  </tbody>\n",
       "</table>\n",
       "</div>"
      ],
      "text/plain": [
       "            Buy and Hold        15        30        60\n",
       "date                                                  \n",
       "2022-05-05      0.016951  0.013724  0.016120  0.018368\n",
       "2022-05-06     -0.008603 -0.000816  0.001010 -0.000549\n",
       "2022-05-09      0.009475  0.010292  0.011890  0.012792\n",
       "2022-05-10      0.023496  0.017125  0.018456  0.021360\n",
       "2022-05-11      0.015866  0.012556  0.013051  0.016580"
      ]
     },
     "execution_count": 61,
     "metadata": {},
     "output_type": "execute_result"
    }
   ],
   "source": [
    "df_daily_return.tail()"
   ]
  },
  {
   "cell_type": "markdown",
   "id": "c0ad6608-2531-4fa8-a1a3-b344d6854fb1",
   "metadata": {},
   "source": [
    "# Metrics"
   ]
  },
  {
   "cell_type": "markdown",
   "id": "82fb2adb-cdda-413b-a91d-188573528e25",
   "metadata": {},
   "source": [
    "## Sharpe Ratio"
   ]
  },
  {
   "cell_type": "code",
   "execution_count": 62,
   "id": "c92e17e9-7351-4edf-a036-2a9e78b0c2bd",
   "metadata": {},
   "outputs": [],
   "source": [
    "#Assume that China risk free is 5%\n",
    "#Change annualize=False if data less than 1 year\n",
    "\n",
    "series_sharpe = qs.stats.sharpe(df_daily_return, rf=0.05, annualize=False)\n",
    "df_sharpe = pd.DataFrame(series_sharpe, columns=['Sharpe Ratio'])"
   ]
  },
  {
   "cell_type": "markdown",
   "id": "36cba642-0160-460a-80f2-5876d889e0fa",
   "metadata": {},
   "source": [
    "## Maximum Drawdown"
   ]
  },
  {
   "cell_type": "code",
   "execution_count": 63,
   "id": "f5a56533-e768-440b-a9a1-08cce9f66f32",
   "metadata": {},
   "outputs": [],
   "source": [
    "series_mdd = qs.stats.max_drawdown(df_daily_return)\n",
    "df_mdd = pd.DataFrame(series_mdd, columns=['Maximum Drawdown'])"
   ]
  },
  {
   "cell_type": "markdown",
   "id": "a76cfbb9-8064-44db-b795-9802e662c97a",
   "metadata": {},
   "source": [
    "## Calmar Ratio "
   ]
  },
  {
   "cell_type": "code",
   "execution_count": 64,
   "id": "cb3e7f86-32ae-4bbf-acba-d613e3e6e0bc",
   "metadata": {},
   "outputs": [],
   "source": [
    "series_calmar = qs.stats.calmar(df_daily_return)\n",
    "df_calmar = pd.DataFrame(series_calmar, columns=['Calmar Ratio'])"
   ]
  },
  {
   "cell_type": "markdown",
   "id": "0999607c-d49d-48da-9bf2-55c1d7fc9340",
   "metadata": {},
   "source": [
    "# Combining all metrics in one dataframe"
   ]
  },
  {
   "cell_type": "code",
   "execution_count": 65,
   "id": "1bdccf1f-31ae-4a1f-935a-be392460fbe1",
   "metadata": {},
   "outputs": [],
   "source": [
    "df_metrics = pd.concat([df_sharpe, df_mdd, df_calmar], axis=1)"
   ]
  },
  {
   "cell_type": "code",
   "execution_count": 66,
   "id": "6a3fc976-1c01-45ca-9da8-939beb77ac40",
   "metadata": {},
   "outputs": [
    {
     "data": {
      "text/html": [
       "<div>\n",
       "<style scoped>\n",
       "    .dataframe tbody tr th:only-of-type {\n",
       "        vertical-align: middle;\n",
       "    }\n",
       "\n",
       "    .dataframe tbody tr th {\n",
       "        vertical-align: top;\n",
       "    }\n",
       "\n",
       "    .dataframe thead th {\n",
       "        text-align: right;\n",
       "    }\n",
       "</style>\n",
       "<table border=\"1\" class=\"dataframe\">\n",
       "  <thead>\n",
       "    <tr style=\"text-align: right;\">\n",
       "      <th></th>\n",
       "      <th>Sharpe Ratio</th>\n",
       "      <th>Maximum Drawdown</th>\n",
       "      <th>Calmar Ratio</th>\n",
       "    </tr>\n",
       "  </thead>\n",
       "  <tbody>\n",
       "    <tr>\n",
       "      <th>Buy and Hold</th>\n",
       "      <td>-0.137950</td>\n",
       "      <td>-0.291534</td>\n",
       "      <td>-1.578988</td>\n",
       "    </tr>\n",
       "    <tr>\n",
       "      <th>15</th>\n",
       "      <td>0.585773</td>\n",
       "      <td>-0.006408</td>\n",
       "      <td>306.221557</td>\n",
       "    </tr>\n",
       "    <tr>\n",
       "      <th>30</th>\n",
       "      <td>0.585372</td>\n",
       "      <td>-0.004977</td>\n",
       "      <td>521.585300</td>\n",
       "    </tr>\n",
       "    <tr>\n",
       "      <th>60</th>\n",
       "      <td>0.423794</td>\n",
       "      <td>-0.000549</td>\n",
       "      <td>2951.448637</td>\n",
       "    </tr>\n",
       "  </tbody>\n",
       "</table>\n",
       "</div>"
      ],
      "text/plain": [
       "              Sharpe Ratio  Maximum Drawdown  Calmar Ratio\n",
       "Buy and Hold     -0.137950         -0.291534     -1.578988\n",
       "15                0.585773         -0.006408    306.221557\n",
       "30                0.585372         -0.004977    521.585300\n",
       "60                0.423794         -0.000549   2951.448637"
      ]
     },
     "execution_count": 66,
     "metadata": {},
     "output_type": "execute_result"
    }
   ],
   "source": [
    "df_metrics"
   ]
  },
  {
   "cell_type": "markdown",
   "id": "7f6a965f-68d4-4a67-91bf-54700bd508e7",
   "metadata": {},
   "source": [
    "# Graph"
   ]
  },
  {
   "cell_type": "code",
   "execution_count": 67,
   "id": "586a6d0a-6841-48ba-86c2-7894a9d150ac",
   "metadata": {},
   "outputs": [],
   "source": [
    "rolling_return = qs.stats.compsum(df_daily_return) #rolling compounded returns"
   ]
  },
  {
   "cell_type": "code",
   "execution_count": 69,
   "id": "46d102cb-1174-4b96-a125-3b4ec1997acf",
   "metadata": {},
   "outputs": [
    {
     "data": {
      "image/png": "[encoded data removed]",
      "text/plain": [
       "<Figure size 1080x360 with 1 Axes>"
      ]
     },
     "metadata": {
      "needs_background": "light"
     },
     "output_type": "display_data"
    }
   ],
   "source": [
    "plt.figure(figsize=(15, 5))\n",
    "plt.plot(rolling_return)\n",
    "\n",
    "#Add title\n",
    "plt.title('Cummulative return, %')\n",
    "\n",
    "#Change format for Y axis\n",
    "plt.gca().yaxis.set_major_formatter(plt.matplotlib.ticker.StrMethodFormatter('{x:,.0%}'))\n",
    "\n",
    "plt.rc('legend',fontsize=8) # using a size in points\n",
    "\n",
    "plt.legend(df_daily_return.columns, loc='best')\n",
    "plt.show()"
   ]
  },
  {
   "cell_type": "markdown",
   "id": "78a6ef18-e3a1-434d-a6ad-5e88a221733a",
   "metadata": {
    "tags": []
   },
   "source": [
    "# Save results in Excel"
   ]
  },
  {
   "cell_type": "code",
   "execution_count": 31,
   "id": "31b4cf2d-98ee-4b1c-ae5b-758b375d4713",
   "metadata": {},
   "outputs": [],
   "source": [
    "# Save Dashboard with main metrics\n",
    "\n",
    "tag_1 = 'Dashboard - ' + str(df_price.index[0].year) + '-' + str(df_price.index[-1].year) + \\\n",
    "'; percentiles ' + str(percentiles[0]) + '%-' + str(percentiles[1]) + '%'\n",
    "tag_1\n",
    "\n",
    "df_metrics.to_excel(str(tag_1) + '.xlsx')\n",
    "\n",
    "# Save Cummulative return\n",
    "tag_2 = 'Cumulative return - ' + str(df_price.index[0].year) + '-' + str(df_price.index[-1].year) + \\\n",
    "'; percentiles ' + str(percentiles[0]) + '%-' + str(percentiles[1]) + '%'\n",
    "tag_2\n",
    "\n",
    "(rolling_return).to_excel(str(tag_2) + '.xlsx')"
   ]
  },
  {
   "cell_type": "code",
   "execution_count": null,
   "id": "bf7e71c7-bf94-4a12-a83f-ee5ed268e35c",
   "metadata": {},
   "outputs": [],
   "source": []
  },
  {
   "cell_type": "code",
   "execution_count": null,
   "id": "f81090d0-fefa-475b-acb8-beb0541a3dd5",
   "metadata": {},
   "outputs": [],
   "source": []
  },
  {
   "cell_type": "code",
   "execution_count": null,
   "id": "997b1a9b-fcdd-4f02-bc7c-7bcc0abdf204",
   "metadata": {},
   "outputs": [],
   "source": []
  },
  {
   "cell_type": "code",
   "execution_count": null,
   "id": "150daecd-6227-41d6-8da6-defa728b7b60",
   "metadata": {},
   "outputs": [],
   "source": []
  }
 ],
 "metadata": {
  "kernelspec": {
   "display_name": "Python 3 (ipykernel)",
   "language": "python",
   "name": "python3"
  },
  "language_info": {
   "codemirror_mode": {
    "name": "ipython",
    "version": 3
   },
   "file_extension": ".py",
   "mimetype": "text/x-python",
   "name": "python",
   "nbconvert_exporter": "python",
   "pygments_lexer": "ipython3",
   "version": "3.9.7"
  }
 },
 "nbformat": 4,
 "nbformat_minor": 5
}
